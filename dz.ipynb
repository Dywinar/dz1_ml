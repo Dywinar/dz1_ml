{
  "nbformat": 4,
  "nbformat_minor": 0,
  "metadata": {
    "colab": {
      "provenance": [],
      "authorship_tag": "ABX9TyNhO2jhKMB6jsTycHxVlNeA",
      "include_colab_link": true
    },
    "kernelspec": {
      "name": "python3",
      "display_name": "Python 3"
    },
    "language_info": {
      "name": "python"
    }
  },
  "cells": [
    {
      "cell_type": "markdown",
      "metadata": {
        "id": "view-in-github",
        "colab_type": "text"
      },
      "source": [
        "<a href=\"https://colab.research.google.com/github/Dywinar/dz1_ml/blob/main/dz.ipynb\" target=\"_parent\"><img src=\"https://colab.research.google.com/assets/colab-badge.svg\" alt=\"Open In Colab\"/></a>"
      ]
    },
    {
      "cell_type": "code",
      "execution_count": 24,
      "metadata": {
        "colab": {
          "base_uri": "https://localhost:8080/"
        },
        "id": "JH0tKVIuhvI-",
        "outputId": "22ae4f75-0536-43cc-e0a7-711a90fde41b"
      },
      "outputs": [
        {
          "output_type": "stream",
          "name": "stdout",
          "text": [
            "w1 = 2.985352262094264, w2 = 1.9919137890049092, w0 = -0.019070484771890776\n",
            "78765.99121002549\n"
          ]
        }
      ],
      "source": [
        "import numpy as np\n",
        "x1 = np.random.randint(100, size = 100)\n",
        "x2 = np.random.randint(200, size = 100)\n",
        "y = 3 * x1 + 2 * x2 - 1\n",
        "x1 = x1 + np.random.randint(5, size = 100) / 10\n",
        "x2 = x2 + np.random.randint(5, size = 100) / 10\n",
        "y = y + np.random.randint(5, size = 100) / 10\n",
        "lr = 0.00000001\n",
        "k  = 100000\n",
        "w0=0\n",
        "w1=0\n",
        "w2=0\n",
        "losses = []\n",
        "for epoch in range(k):\n",
        "    for i in range(len(x1)):\n",
        "          prediction = w1*x1[i] + w2*x2[i] + w0\n",
        "          w1 += 2*lr*x1[i]*(y[i]- prediction)\n",
        "          w2 += 2*lr*x2[i]*(y[i]- prediction)\n",
        "          w0 += 2*lr*(y[i]- prediction)\n",
        "    los = 0\n",
        "    for q in range(len(x1)):\n",
        "      los += (y[i] -  w1*x1[i] + w2*x2[i] + w0)**2\n",
        "    losses.append(los/len(x1))\n",
        "print(f'w1 = {w1}, w2 = {w2}, w0 = {w0}')\n",
        "print(min(losses))"
      ]
    },
    {
      "cell_type": "code",
      "source": [
        "%pip install matplotlib"
      ],
      "metadata": {
        "colab": {
          "base_uri": "https://localhost:8080/"
        },
        "id": "1wBsnFJTil4K",
        "outputId": "607f0ef2-fb50-4c26-f396-ad8e930c2ec1"
      },
      "execution_count": 9,
      "outputs": [
        {
          "output_type": "stream",
          "name": "stdout",
          "text": [
            "Requirement already satisfied: matplotlib in /usr/local/lib/python3.10/dist-packages (3.7.1)\n",
            "Requirement already satisfied: contourpy>=1.0.1 in /usr/local/lib/python3.10/dist-packages (from matplotlib) (1.2.0)\n",
            "Requirement already satisfied: cycler>=0.10 in /usr/local/lib/python3.10/dist-packages (from matplotlib) (0.12.1)\n",
            "Requirement already satisfied: fonttools>=4.22.0 in /usr/local/lib/python3.10/dist-packages (from matplotlib) (4.48.1)\n",
            "Requirement already satisfied: kiwisolver>=1.0.1 in /usr/local/lib/python3.10/dist-packages (from matplotlib) (1.4.5)\n",
            "Requirement already satisfied: numpy>=1.20 in /usr/local/lib/python3.10/dist-packages (from matplotlib) (1.25.2)\n",
            "Requirement already satisfied: packaging>=20.0 in /usr/local/lib/python3.10/dist-packages (from matplotlib) (23.2)\n",
            "Requirement already satisfied: pillow>=6.2.0 in /usr/local/lib/python3.10/dist-packages (from matplotlib) (9.4.0)\n",
            "Requirement already satisfied: pyparsing>=2.3.1 in /usr/local/lib/python3.10/dist-packages (from matplotlib) (3.1.1)\n",
            "Requirement already satisfied: python-dateutil>=2.7 in /usr/local/lib/python3.10/dist-packages (from matplotlib) (2.8.2)\n",
            "Requirement already satisfied: six>=1.5 in /usr/local/lib/python3.10/dist-packages (from python-dateutil>=2.7->matplotlib) (1.16.0)\n"
          ]
        }
      ]
    },
    {
      "cell_type": "code",
      "source": [
        "import matplotlib.pyplot as plt\n",
        "plt.plot(np.arange(10000), losses[:10000])"
      ],
      "metadata": {
        "colab": {
          "base_uri": "https://localhost:8080/",
          "height": 447
        },
        "id": "k_OvOh19jQeM",
        "outputId": "ef4bbba4-d90b-4f0a-81b9-66e951bfc3dc"
      },
      "execution_count": 30,
      "outputs": [
        {
          "output_type": "execute_result",
          "data": {
            "text/plain": [
              "[<matplotlib.lines.Line2D at 0x7feb5b18d030>]"
            ]
          },
          "metadata": {},
          "execution_count": 30
        },
        {
          "output_type": "display_data",
          "data": {
            "text/plain": [
              "<Figure size 640x480 with 1 Axes>"
            ],
            "image/png": "[encoded data removed]"
          },
          "metadata": {}
        }
      ]
    },
    {
      "cell_type": "code",
      "source": [],
      "metadata": {
        "id": "SYhD5iDxleUR"
      },
      "execution_count": null,
      "outputs": []
    }
  ]
}